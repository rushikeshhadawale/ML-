{
 "cells": [
  {
   "cell_type": "code",
   "execution_count": 61,
   "id": "ea7ce199-0278-440d-b61e-1a734775fa01",
   "metadata": {},
   "outputs": [
    {
     "name": "stdout",
     "output_type": "stream",
     "text": [
      "   fruit_label fruit_name fruit_subtype  mass  width  height  color_score\n",
      "0            1      apple  granny_smith   192    8.4     7.3         0.55\n",
      "1            1      apple  granny_smith   180    8.0     6.8         0.59\n",
      "2            1      apple  granny_smith   176    7.4     7.2         0.60\n",
      "3            2   mandarin      mandarin    86    6.2     4.7         0.80\n",
      "4            2   mandarin      mandarin    84    6.0     4.6         0.79\n",
      "    fruit_label fruit_name fruit_subtype  mass  width  height  color_score\n",
      "54            4      lemon       unknown   116    6.1     8.5         0.71\n",
      "55            4      lemon       unknown   116    6.3     7.7         0.72\n",
      "56            4      lemon       unknown   116    5.9     8.1         0.73\n",
      "57            4      lemon       unknown   152    6.5     8.5         0.72\n",
      "58            4      lemon       unknown   118    6.1     8.1         0.70\n",
      "       fruit_label        mass      width     height  color_score\n",
      "count    59.000000   59.000000  59.000000  59.000000    59.000000\n",
      "mean      2.542373  163.118644   7.105085   7.693220     0.762881\n",
      "std       1.208048   55.018832   0.816938   1.361017     0.076857\n",
      "min       1.000000   76.000000   5.800000   4.000000     0.550000\n",
      "25%       1.000000  140.000000   6.600000   7.200000     0.720000\n",
      "50%       3.000000  158.000000   7.200000   7.600000     0.750000\n",
      "75%       4.000000  177.000000   7.500000   8.200000     0.810000\n",
      "max       4.000000  362.000000   9.600000  10.500000     0.930000\n",
      "Accuracy of K-NN Classifier on training set:0.95\n",
      "Accuracy of K-NN Classifier on test set:1.00\n"
     ]
    }
   ],
   "source": [
    "import numpy as np \n",
    "import pandas as pd\n",
    "import matplotlib.pyplot as plt\n",
    "\n",
    "from sklearn.metrics import classification_report\n",
    "from sklearn.model_selection import train_test_split \n",
    "from sklearn.preprocessing import MinMaxScaler\n",
    "from sklearn.linear_model import LogisticRegression\n",
    "from sklearn.tree import DecisionTreeClassifier\n",
    "from sklearn.neighbors import KNeighborsClassifier\n",
    "from sklearn.discriminant_analysis import LinearDiscriminantAnalysis \n",
    "from sklearn.svm import SVC \n",
    "import os\n",
    "os.chdir(\"C:\\\\Users\\\\admin\\\\Downloads\") \n",
    "fruits= pd.read_csv(\"fruit_data.csv\") \n",
    "print(fruits.head())\n",
    "print(fruits.tail())\n",
    "print(fruits.describe())\n",
    "feature_names=['mass','width','height','color_score']\n",
    "X=fruits[feature_names]\n",
    "Y=fruits['fruit_label']\n",
    "X_train, X_test, y_train, y_test=train_test_split(X,Y,random_state=0)\n",
    "scaler=MinMaxScaler()\n",
    "X_train=scaler.fit_transform(X_train)\n",
    "X_test=scaler.transform(X_test)\n",
    "knn=KNeighborsClassifier()\n",
    "knn.fit(X_train, y_train)\n",
    "print('Accuracy of K-NN Classifier on training set:{:.2f}'.format(knn.score(X_train,y_train)))\n",
    "print('Accuracy of K-NN Classifier on test set:{:.2f}'.format(knn.score(X_test,y_test)))\n"
   ]
  },
  {
   "cell_type": "code",
   "execution_count": 99,
   "id": "6306badb-fe91-4e17-9135-66bc6821327e",
   "metadata": {},
   "outputs": [
    {
     "name": "stdout",
     "output_type": "stream",
     "text": [
      "   Unnamed: 0  Sepal.Length  Sepal.Width  Petal.Length  Petal.Width Species\n",
      "0           1           5.1          3.5           1.4          0.2  setosa\n",
      "1           2           4.9          3.0           1.4          0.2  setosa\n",
      "2           3           4.7          3.2           1.3          0.2  setosa\n",
      "3           4           4.6          3.1           1.5          0.2  setosa\n",
      "4           5           5.0          3.6           1.4          0.2  setosa\n",
      "Accuracy: 1.0\n"
     ]
    }
   ],
   "source": [
    "import numpy as np\n",
    "import matplotlib.pyplot as plt\n",
    "import pandas as pd\n",
    "os.chdir(\"C:\\\\Users\\\\admin\\\\Downloads\") \n",
    "dataset=pd.read_csv(\"iris.csv\")\n",
    "X=dataset.iloc[:,:4].values\n",
    "y=dataset['Species'].values\n",
    "print(dataset.head(5))\n",
    "\n",
    "from sklearn.model_selection import train_test_split\n",
    "X_train, X_test, y_train, y_test=train_test_split(X,y,test_size=0.2)\n",
    "from sklearn.preprocessing import StandardScaler\n",
    "sc= StandardScaler()\n",
    "X_train=sc.fit_transform(X_train)\n",
    "X_test=sc.transform(X_test)\n",
    "from sklearn.naive_bayes import GaussianNB \n",
    "classifier=GaussianNB()\n",
    "classifier.fit(X_train, y_train)\n",
    "y_pred= classifier.predict(X_test)\n",
    "from sklearn.metrics import confusion_matrix \n",
    "cm=confusion_matrix(y_test,y_pred)\n",
    "from sklearn.metrics import accuracy_score\n",
    "print(\"Accuracy:\",accuracy_score(y_test,y_pred))\n",
    "      \n"
   ]
  },
  {
   "cell_type": "code",
   "execution_count": null,
   "id": "c276f621-27b6-495b-8339-492f082e2ab6",
   "metadata": {},
   "outputs": [],
   "source": []
  }
 ],
 "metadata": {
  "kernelspec": {
   "display_name": "Python 3 (ipykernel)",
   "language": "python",
   "name": "python3"
  },
  "language_info": {
   "codemirror_mode": {
    "name": "ipython",
    "version": 3
   },
   "file_extension": ".py",
   "mimetype": "text/x-python",
   "name": "python",
   "nbconvert_exporter": "python",
   "pygments_lexer": "ipython3",
   "version": "3.11.5"
  }
 },
 "nbformat": 4,
 "nbformat_minor": 5
}
